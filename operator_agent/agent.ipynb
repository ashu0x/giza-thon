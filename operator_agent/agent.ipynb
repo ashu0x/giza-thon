{
 "cells": [
  {
   "cell_type": "code",
   "execution_count": 2,
   "metadata": {},
   "outputs": [],
   "source": [
    "from giza.agents import GizaAgent\n",
    "import numpy as np"
   ]
  },
  {
   "cell_type": "code",
   "execution_count": null,
   "metadata": {},
   "outputs": [],
   "source": [
    "def predict(agent: GizaAgent, X: np.ndarray):\n",
    "    prediction = agent.predict(input_feed={\"val\": X}, verifiable=True, job_size=\"XL\")\n",
    "    return prediction"
   ]
  },
  {
   "cell_type": "code",
   "execution_count": null,
   "metadata": {},
   "outputs": [],
   "source": [
    "eigen_st_strategy = \"0x93c4b944D05dfe6df7645A86cd2206016c51564D\""
   ]
  },
  {
   "cell_type": "code",
   "execution_count": null,
   "metadata": {},
   "outputs": [],
   "source": [
    "contracts = {\n",
    "    \"eigen_delegation_manager\": \"0x39053D51B77DC0d36036Fc1fCc8Cb819df8Ef37A\",\n",
    "    \"eigen_strategy_manager\": \"0x858646372CC42E1A627fcE94aa7A7033e7CF075A\",\n",
    "    \"weth\": \"tokenB_address\",\n",
    "    \"pool\": pool_address,\n",
    "}"
   ]
  },
  {
   "cell_type": "code",
   "execution_count": null,
   "metadata": {},
   "outputs": [],
   "source": [
    "agent = GizaAgent(\n",
    "    contracts=contracts,\n",
    "    id=814,\n",
    "    version_id=2,\n",
    "    chain=f\"ethereum:mainnet:{PRIVATE_RPC}\",\n",
    "    account=account,\n",
    ")"
   ]
  }
 ],
 "metadata": {
  "kernelspec": {
   "display_name": "Python 3",
   "language": "python",
   "name": "python3"
  },
  "language_info": {
   "codemirror_mode": {
    "name": "ipython",
    "version": 3
   },
   "file_extension": ".py",
   "mimetype": "text/x-python",
   "name": "python",
   "nbconvert_exporter": "python",
   "pygments_lexer": "ipython3",
   "version": "3.11.0"
  }
 },
 "nbformat": 4,
 "nbformat_minor": 2
}
