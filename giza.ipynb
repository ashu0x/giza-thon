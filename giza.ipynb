{
 "cells": [
  {
   "cell_type": "code",
   "execution_count": 68,
   "metadata": {},
   "outputs": [
    {
     "name": "stdout",
     "output_type": "stream",
     "text": [
      "<class 'numpy.ndarray'> <class 'pandas.core.frame.DataFrame'> (3561, 1) (1559, 1)\n",
      "[0.9801609]\n",
      "Mean Squared Error: 0.00024923739187480336\n",
      "Stock to invest in: Everstake, Predicted Change: 0.9871302843093872\n"
     ]
    },
    {
     "name": "stderr",
     "output_type": "stream",
     "text": [
      "/var/folders/pj/vyqltmgj79xghgpb38_96m040000gn/T/ipykernel_98715/470357310.py:17: FutureWarning: Not prepending group keys to the result index of transform-like apply. In the future, the group keys will be included in the index, regardless of whether the applied function returns a like-indexed object.\n",
      "To preserve the previous behavior, use\n",
      "\n",
      "\t>>> .groupby(..., group_keys=False)\n",
      "\n",
      "To adopt the future behavior and silence this warning, use \n",
      "\n",
      "\t>>> .groupby(..., group_keys=True)\n",
      "  df = df.groupby('id').apply(create_lag_features, lag=1)\n",
      "/var/folders/pj/vyqltmgj79xghgpb38_96m040000gn/T/ipykernel_98715/470357310.py:41: SettingWithCopyWarning: \n",
      "A value is trying to be set on a copy of a slice from a DataFrame.\n",
      "Try using .loc[row_indexer,col_indexer] = value instead\n",
      "\n",
      "See the caveats in the documentation: https://pandas.pydata.org/pandas-docs/stable/user_guide/indexing.html#returning-a-view-versus-a-copy\n",
      "  test_df['predicted_change'] = model.predict(X_test.values)\n"
     ]
    }
   ],
   "source": [
    "import pandas as pd\n",
    "import numpy as np\n",
    "from xgboost import XGBRegressor\n",
    "from sklearn.model_selection import train_test_split\n",
    "from sklearn.metrics import mean_squared_error\n",
    "\n",
    "# Load the CSV file\n",
    "df = pd.read_csv('validator_data.csv')\n",
    "\n",
    "# Function to create lag features\n",
    "def create_lag_features(df, lag=1):\n",
    "    for i in range(1, lag + 1):\n",
    "        df[f'lag_{i}'] = df['effectiveness'].shift(i)\n",
    "    return df\n",
    "\n",
    "# Create lag features for the past 5 days\n",
    "df = df.groupby('id').apply(create_lag_features, lag=1)\n",
    "df = df.dropna().reset_index(drop=True)\n",
    "# print(df.head())\n",
    "\n",
    "# Define features and target\n",
    "features = [col for col in df.columns if 'lag_' in col]\n",
    "target = 'effectiveness'\n",
    "\n",
    "# Split the data into training and testing sets\n",
    "train_df = df[df['partition_date'] < '2024-05-02']\n",
    "test_df = df[df['partition_date'] >= '2024-05-02']\n",
    "\n",
    "X_train = train_df[features]\n",
    "y_train = train_df[target]\n",
    "X_test = test_df[features]\n",
    "y_test = test_df[target]\n",
    "\n",
    "# Initialize and train the XGBoost model\n",
    "model = XGBRegressor()\n",
    "model.fit(X_train.values, y_train.values)\n",
    "\n",
    "print(type(X_test.values), type(df), X_test.values.shape, X_train.values.shape)\n",
    "\n",
    "# Make predictions\n",
    "test_df['predicted_change'] = model.predict(X_test.values)\n",
    "\n",
    "print(model.predict(X_test.values[:1]))\n",
    "\n",
    "# Evaluate the model\n",
    "mse = mean_squared_error(y_test, test_df['predicted_change'])\n",
    "print(f'Mean Squared Error: {mse}')\n",
    "\n",
    "# Select the stock with the highest predicted change for tomorrow\n",
    "investment_stock = test_df.loc[test_df['predicted_change'].idxmax()]\n",
    "print(f'Stock to invest in: {investment_stock[\"id\"]}, Predicted Change: {investment_stock[\"predicted_change\"]}')\n"
   ]
  },
  {
   "cell_type": "code",
   "execution_count": 69,
   "metadata": {},
   "outputs": [
    {
     "name": "stdout",
     "output_type": "stream",
     "text": [
      "\u001b[1;33m[\u001b[0m\u001b[33mgiza\u001b[0m\u001b[1;33m]\u001b[0m\u001b[1m[\u001b[0m\u001b[1;36m2024\u001b[0m-\u001b[1;36m06\u001b[0m-\u001b[1;36m09\u001b[0m \u001b[1;92m11:44:02\u001b[0m.\u001b[1;36m300\u001b[0m\u001b[1m]\u001b[0m Creating API Key ✅ \n",
      "\u001b[1;33m[\u001b[0m\u001b[33mgiza\u001b[0m\u001b[1;33m]\u001b[0m\u001b[1m[\u001b[0m\u001b[1;36m2024\u001b[0m-\u001b[1;36m06\u001b[0m-\u001b[1;36m09\u001b[0m \u001b[1;92m11:44:03\u001b[0m.\u001b[1;36m721\u001b[0m\u001b[1m]\u001b[0m Successfully created API Key. It will be used for future requests ✅\n"
     ]
    }
   ],
   "source": [
    "!giza users create-api-key"
   ]
  },
  {
   "cell_type": "code",
   "execution_count": 4,
   "metadata": {},
   "outputs": [
    {
     "name": "stdout",
     "output_type": "stream",
     "text": [
      "1.4.2\n"
     ]
    }
   ],
   "source": [
    "import sklearn\n",
    "print(sklearn.__version__)"
   ]
  },
  {
   "cell_type": "code",
   "execution_count": 70,
   "metadata": {},
   "outputs": [],
   "source": [
    "from giza.zkcook import serialize_model\n",
    "serialize_model(model, \"validator_data.json\")"
   ]
  },
  {
   "cell_type": "code",
   "execution_count": 72,
   "metadata": {},
   "outputs": [
    {
     "name": "stdout",
     "output_type": "stream",
     "text": [
      "\u001b[1;33m[\u001b[0m\u001b[33mgiza\u001b[0m\u001b[1;33m]\u001b[0m\u001b[1m[\u001b[0m\u001b[1;36m2024\u001b[0m-\u001b[1;36m06\u001b[0m-\u001b[1;36m09\u001b[0m \u001b[1;92m11:49:02\u001b[0m.\u001b[1;36m755\u001b[0m\u001b[1m]\u001b[0m No model id provided, checking if model exists ✅\n",
      "\u001b[1;33m[\u001b[0m\u001b[33mgiza\u001b[0m\u001b[1;33m]\u001b[0m\u001b[1m[\u001b[0m\u001b[1;36m2024\u001b[0m-\u001b[1;36m06\u001b[0m-\u001b[1;36m09\u001b[0m \u001b[1;92m11:49:02\u001b[0m.\u001b[1;36m758\u001b[0m\u001b[1m]\u001b[0m Model name is: validator_data\n",
      "\u001b[2K\u001b[1;33m[\u001b[0m\u001b[33mgiza\u001b[0m\u001b[1;33m]\u001b[0m\u001b[1m[\u001b[0m\u001b[1;36m2024\u001b[0m-\u001b[1;36m06\u001b[0m-\u001b[1;36m09\u001b[0m \u001b[1;92m11:49:03\u001b[0m.\u001b[1;36m672\u001b[0m\u001b[1m]\u001b[0m Model already exists, using existing model ✅ \n",
      "\u001b[2K\u001b[1;33m[\u001b[0m\u001b[33mgiza\u001b[0m\u001b[1;33m]\u001b[0m\u001b[1m[\u001b[0m\u001b[1;36m2024\u001b[0m-\u001b[1;36m06\u001b[0m-\u001b[1;36m09\u001b[0m \u001b[1;92m11:49:03\u001b[0m.\u001b[1;36m673\u001b[0m\u001b[1m]\u001b[0m Model found with id -> \u001b[1;36m761\u001b[0m! ✅\n",
      "\u001b[2K\u001b[1;33m[\u001b[0m\u001b[33mgiza\u001b[0m\u001b[1;33m]\u001b[0m\u001b[1m[\u001b[0m\u001b[1;36m2024\u001b[0m-\u001b[1;36m06\u001b[0m-\u001b[1;36m09\u001b[0m \u001b[1;92m11:49:04\u001b[0m.\u001b[1;36m953\u001b[0m\u001b[1m]\u001b[0m Version Created with id -> \u001b[1;36m2\u001b[0m! ✅\n",
      "\u001b[2K\u001b[1;33m[\u001b[0m\u001b[33mgiza\u001b[0m\u001b[1;33m]\u001b[0m\u001b[1m[\u001b[0m\u001b[1;36m2024\u001b[0m-\u001b[1;36m06\u001b[0m-\u001b[1;36m09\u001b[0m \u001b[1;92m11:49:04\u001b[0m.\u001b[1;36m954\u001b[0m\u001b[1m]\u001b[0m Sending model for transpilation ✅ \n",
      "\u001b[2K\u001b[1;33m[\u001b[0m\u001b[33mgiza\u001b[0m\u001b[1;33m]\u001b[0m\u001b[1m[\u001b[0m\u001b[1;36m2024\u001b[0m-\u001b[1;36m06\u001b[0m-\u001b[1;36m09\u001b[0m \u001b[1;92m11:49:30\u001b[0m.\u001b[1;36m025\u001b[0m\u001b[1m]\u001b[0m Transpilation is fully compatible. Version compiled and Sierra is saved at Giza ✅\n",
      "\u001b[2K\u001b[32m⠋\u001b[0m Transpiling Model...\n",
      "\u001b[1A\u001b[2K\u001b[1;33m[\u001b[0m\u001b[33mgiza\u001b[0m\u001b[1;33m]\u001b[0m\u001b[1m[\u001b[0m\u001b[1;36m2024\u001b[0m-\u001b[1;36m06\u001b[0m-\u001b[1;36m09\u001b[0m \u001b[1;92m11:49:32\u001b[0m.\u001b[1;36m152\u001b[0m\u001b[1m]\u001b[0m Downloading model ✅\n",
      "\u001b[1;33m[\u001b[0m\u001b[33mgiza\u001b[0m\u001b[1;33m]\u001b[0m\u001b[1m[\u001b[0m\u001b[1;36m2024\u001b[0m-\u001b[1;36m06\u001b[0m-\u001b[1;36m09\u001b[0m \u001b[1;92m11:49:32\u001b[0m.\u001b[1;36m160\u001b[0m\u001b[1m]\u001b[0m model saved at: validator_data\n"
     ]
    }
   ],
   "source": [
    "! giza transpile validator_data.json --output-path validator_data"
   ]
  },
  {
   "cell_type": "code",
   "execution_count": 73,
   "metadata": {},
   "outputs": [
    {
     "name": "stdout",
     "output_type": "stream",
     "text": [
      "\u001b[2K▰▰▰▱▱▱▱ Creating endpoint!t!\n",
      "\u001b[?25h\u001b[1;33m[\u001b[0m\u001b[33mgiza\u001b[0m\u001b[1;33m]\u001b[0m\u001b[1m[\u001b[0m\u001b[1;36m2024\u001b[0m-\u001b[1;36m06\u001b[0m-\u001b[1;36m09\u001b[0m \u001b[1;92m11:50:03\u001b[0m.\u001b[1;36m437\u001b[0m\u001b[1m]\u001b[0m Endpoint is successful ✅\n",
      "\u001b[1;33m[\u001b[0m\u001b[33mgiza\u001b[0m\u001b[1;33m]\u001b[0m\u001b[1m[\u001b[0m\u001b[1;36m2024\u001b[0m-\u001b[1;36m06\u001b[0m-\u001b[1;36m09\u001b[0m \u001b[1;92m11:50:03\u001b[0m.\u001b[1;36m441\u001b[0m\u001b[1m]\u001b[0m Endpoint created with id -> \u001b[1;36m329\u001b[0m ✅\n",
      "\u001b[1;33m[\u001b[0m\u001b[33mgiza\u001b[0m\u001b[1;33m]\u001b[0m\u001b[1m[\u001b[0m\u001b[1;36m2024\u001b[0m-\u001b[1;36m06\u001b[0m-\u001b[1;36m09\u001b[0m \u001b[1;92m11:50:03\u001b[0m.\u001b[1;36m442\u001b[0m\u001b[1m]\u001b[0m Endpoint created with endpoint URL: \u001b[4;94mhttps://endpoint-ashu-761-2-274f6734-7i3yxzspbq-ew.a.run.app\u001b[0m 🎉\n"
     ]
    }
   ],
   "source": [
    "! giza endpoints deploy --size XL --model-id 761 --version-id 2"
   ]
  },
  {
   "cell_type": "code",
   "execution_count": 56,
   "metadata": {},
   "outputs": [
    {
     "name": "stdout",
     "output_type": "stream",
     "text": [
      "(15,)\n"
     ]
    }
   ],
   "source": [
    "print(X_test.values[0].shape)"
   ]
  },
  {
   "cell_type": "code",
   "execution_count": 60,
   "metadata": {},
   "outputs": [
    {
     "name": "stdout",
     "output_type": "stream",
     "text": [
      "[98759, 98082, 97765, 98141, 97745, 97501, 98390, 98056, 96446, 97040, 97703, 95983, 96340, 96707, 97315]\n",
      "         lag_1     lag_2     lag_3     lag_4     lag_5     lag_6     lag_7  \\\n",
      "1054  0.987593  0.980825  0.977657  0.981416  0.977456  0.975018  0.983906   \n",
      "1055  0.965672  0.984462  0.915772  0.984897  0.975365  0.985054  0.988435   \n",
      "1056  0.983922  0.984427  0.980115  0.987708  0.984691  0.987880  0.989143   \n",
      "1057  0.989389  0.983755  0.985990  0.987211  0.978822  0.987083  0.988192   \n",
      "1058  0.984704  0.970356  0.977534  0.968923  0.956117  0.971122  0.956697   \n",
      "\n",
      "         lag_8     lag_9    lag_10    lag_11    lag_12    lag_13    lag_14  \\\n",
      "1054  0.980564  0.964466  0.970404  0.977035  0.959832  0.963410  0.967075   \n",
      "1055  0.984454  0.980887  0.975032  0.947271  0.972258  0.968034  0.971474   \n",
      "1056  0.979856  0.981389  0.972380  0.963603  0.975064  0.971483  0.975633   \n",
      "1057  0.985370  0.980067  0.977581  0.981469  0.962889  0.970328  0.973710   \n",
      "1058  0.957808  0.962124  0.903128  0.914015  0.951044  0.957845  0.953990   \n",
      "\n",
      "        lag_15  \n",
      "1054  0.973160  \n",
      "1055  0.977498  \n",
      "1056  0.981116  \n",
      "1057  0.973856  \n",
      "1058  0.963082  \n",
      "[0.98164904]\n"
     ]
    }
   ],
   "source": [
    "v = X_test.values[:1]\n",
    "args = v[0]*100000\n",
    "int_args = [int(arg) for arg in args]\n",
    "print(int_args)\n",
    "input = X_test.values[1, :]\n",
    "print(X_test.head())\n",
    "print(model.predict([args]))"
   ]
  },
  {
   "cell_type": "code",
   "execution_count": 88,
   "metadata": {},
   "outputs": [
    {
     "data": {
      "text/plain": [
       "lag_1    0.984954\n",
       "Name: 0, dtype: float64"
      ]
     },
     "execution_count": 88,
     "metadata": {},
     "output_type": "execute_result"
    }
   ],
   "source": [
    "X_train.iloc[0]"
   ]
  },
  {
   "cell_type": "code",
   "execution_count": 93,
   "metadata": {},
   "outputs": [
    {
     "data": {
      "text/plain": [
       "array([0.9801609], dtype=float32)"
      ]
     },
     "execution_count": 93,
     "metadata": {},
     "output_type": "execute_result"
    }
   ],
   "source": [
    "new_data = pd.DataFrame({\n",
    "    'lag_1': [0.987593]\n",
    "})\n",
    "model.predict(new_data.values)"
   ]
  },
  {
   "cell_type": "code",
   "execution_count": 97,
   "metadata": {},
   "outputs": [
    {
     "name": "stderr",
     "output_type": "stream",
     "text": [
      "An error occurred in predict: 503 Server Error: Service Unavailable for url: https://endpoint-ashu-761-2-274f6734-7i3yxzspbq-ew.a.run.app/cairo_run\n",
      "Deployment predict error: Service Unavailable\n",
      "An error occurred in predict: 503 Server Error: Service Unavailable for url: https://endpoint-ashu-761-2-274f6734-7i3yxzspbq-ew.a.run.app/cairo_run\n"
     ]
    },
    {
     "ename": "HTTPError",
     "evalue": "503 Server Error: Service Unavailable for url: https://endpoint-ashu-761-2-274f6734-7i3yxzspbq-ew.a.run.app/cairo_run",
     "output_type": "error",
     "traceback": [
      "\u001b[0;31m---------------------------------------------------------------------------\u001b[0m",
      "\u001b[0;31mHTTPError\u001b[0m                                 Traceback (most recent call last)",
      "Cell \u001b[0;32mIn[97], line 36\u001b[0m\n\u001b[1;32m     32\u001b[0m     \u001b[38;5;28;01mreturn\u001b[39;00m result, proof_id\n\u001b[1;32m     35\u001b[0m \u001b[38;5;28;01mif\u001b[39;00m \u001b[38;5;18m__name__\u001b[39m \u001b[38;5;241m==\u001b[39m \u001b[38;5;124m\"\u001b[39m\u001b[38;5;124m__main__\u001b[39m\u001b[38;5;124m\"\u001b[39m:\n\u001b[0;32m---> 36\u001b[0m     _, proof_id \u001b[38;5;241m=\u001b[39m \u001b[43mexecution\u001b[49m\u001b[43m(\u001b[49m\u001b[43m)\u001b[49m\n\u001b[1;32m     37\u001b[0m     \u001b[38;5;28mprint\u001b[39m(\u001b[38;5;124mf\u001b[39m\u001b[38;5;124m\"\u001b[39m\u001b[38;5;124mProof ID: \u001b[39m\u001b[38;5;132;01m{\u001b[39;00mproof_id\u001b[38;5;132;01m}\u001b[39;00m\u001b[38;5;124m\"\u001b[39m)\n",
      "Cell \u001b[0;32mIn[97], line 28\u001b[0m, in \u001b[0;36mexecution\u001b[0;34m()\u001b[0m\n\u001b[1;32m     21\u001b[0m \u001b[38;5;28;01mdef\u001b[39;00m \u001b[38;5;21mexecution\u001b[39m():\n\u001b[1;32m     22\u001b[0m     \u001b[38;5;66;03m# The input data type should match the model's expected input\u001b[39;00m\n\u001b[1;32m     23\u001b[0m     \u001b[38;5;66;03m# input = X_test.values[:1]\u001b[39;00m\n\u001b[1;32m     24\u001b[0m     \u001b[38;5;66;03m# print(input, input.shape)\u001b[39;00m\n\u001b[1;32m     25\u001b[0m     \u001b[38;5;66;03m# print(model.predict(input))\u001b[39;00m\n\u001b[1;32m     26\u001b[0m     \u001b[38;5;28minput\u001b[39m \u001b[38;5;241m=\u001b[39m new_data\u001b[38;5;241m.\u001b[39mastype(np\u001b[38;5;241m.\u001b[39mfloat32)\u001b[38;5;241m.\u001b[39mvalues\n\u001b[0;32m---> 28\u001b[0m     (result, proof_id) \u001b[38;5;241m=\u001b[39m \u001b[43mprediction\u001b[49m\u001b[43m(\u001b[49m\u001b[38;5;28;43minput\u001b[39;49m\u001b[43m,\u001b[49m\u001b[43m \u001b[49m\u001b[43mMODEL_ID\u001b[49m\u001b[43m,\u001b[49m\u001b[43m \u001b[49m\u001b[43mVERSION_ID\u001b[49m\u001b[43m)\u001b[49m\n\u001b[1;32m     30\u001b[0m     \u001b[38;5;28mprint\u001b[39m(\u001b[38;5;124mf\u001b[39m\u001b[38;5;124m\"\u001b[39m\u001b[38;5;124mPredicted value for input \u001b[39m\u001b[38;5;132;01m{\u001b[39;00m\u001b[38;5;28minput\u001b[39m\u001b[38;5;241m.\u001b[39mflatten()[\u001b[38;5;241m0\u001b[39m]\u001b[38;5;132;01m}\u001b[39;00m\u001b[38;5;124m is \u001b[39m\u001b[38;5;132;01m{\u001b[39;00mresult\u001b[38;5;132;01m}\u001b[39;00m\u001b[38;5;124m\"\u001b[39m)\n\u001b[1;32m     32\u001b[0m     \u001b[38;5;28;01mreturn\u001b[39;00m result, proof_id\n",
      "Cell \u001b[0;32mIn[97], line 14\u001b[0m, in \u001b[0;36mprediction\u001b[0;34m(input, model_id, version_id)\u001b[0m\n\u001b[1;32m     11\u001b[0m \u001b[38;5;28;01mdef\u001b[39;00m \u001b[38;5;21mprediction\u001b[39m(\u001b[38;5;28minput\u001b[39m, model_id, version_id):\n\u001b[1;32m     12\u001b[0m     model \u001b[38;5;241m=\u001b[39m GizaModel(\u001b[38;5;28mid\u001b[39m\u001b[38;5;241m=\u001b[39mmodel_id, version\u001b[38;5;241m=\u001b[39mversion_id)\n\u001b[0;32m---> 14\u001b[0m     (result, proof_id) \u001b[38;5;241m=\u001b[39m \u001b[43mmodel\u001b[49m\u001b[38;5;241;43m.\u001b[39;49m\u001b[43mpredict\u001b[49m\u001b[43m(\u001b[49m\n\u001b[1;32m     15\u001b[0m \u001b[43m        \u001b[49m\u001b[43minput_feed\u001b[49m\u001b[38;5;241;43m=\u001b[39;49m\u001b[43m{\u001b[49m\u001b[38;5;124;43m\"\u001b[39;49m\u001b[38;5;124;43minput\u001b[39;49m\u001b[38;5;124;43m\"\u001b[39;49m\u001b[43m:\u001b[49m\u001b[43m \u001b[49m\u001b[38;5;28;43minput\u001b[39;49m\u001b[43m}\u001b[49m\u001b[43m,\u001b[49m\u001b[43m \u001b[49m\u001b[43mverifiable\u001b[49m\u001b[38;5;241;43m=\u001b[39;49m\u001b[38;5;28;43;01mTrue\u001b[39;49;00m\u001b[43m,\u001b[49m\u001b[43m \u001b[49m\u001b[43mmodel_category\u001b[49m\u001b[38;5;241;43m=\u001b[39;49m\u001b[38;5;124;43m\"\u001b[39;49m\u001b[38;5;124;43mXGB\u001b[39;49m\u001b[38;5;124;43m\"\u001b[39;49m\n\u001b[1;32m     16\u001b[0m \u001b[43m    \u001b[49m\u001b[43m)\u001b[49m\n\u001b[1;32m     18\u001b[0m     \u001b[38;5;28;01mreturn\u001b[39;00m result, proof_id\n",
      "File \u001b[0;32m~/.pyenv/versions/3.11.0/lib/python3.11/site-packages/giza/agents/model.py:333\u001b[0m, in \u001b[0;36mGizaModel.predict\u001b[0;34m(self, input_file, input_feed, verifiable, fp_impl, custom_output_dtype, model_category, job_size, dry_run)\u001b[0m\n\u001b[1;32m    331\u001b[0m \u001b[38;5;28;01mexcept\u001b[39;00m \u001b[38;5;167;01mException\u001b[39;00m \u001b[38;5;28;01mas\u001b[39;00m e:\n\u001b[1;32m    332\u001b[0m     logger\u001b[38;5;241m.\u001b[39merror(\u001b[38;5;124mf\u001b[39m\u001b[38;5;124m\"\u001b[39m\u001b[38;5;124mAn error occurred in predict: \u001b[39m\u001b[38;5;132;01m{\u001b[39;00me\u001b[38;5;132;01m}\u001b[39;00m\u001b[38;5;124m\"\u001b[39m)\n\u001b[0;32m--> 333\u001b[0m     \u001b[38;5;28;01mraise\u001b[39;00m e\n",
      "File \u001b[0;32m~/.pyenv/versions/3.11.0/lib/python3.11/site-packages/giza/agents/model.py:297\u001b[0m, in \u001b[0;36mGizaModel.predict\u001b[0;34m(self, input_file, input_feed, verifiable, fp_impl, custom_output_dtype, model_category, job_size, dry_run)\u001b[0m\n\u001b[1;32m    295\u001b[0m     error_message \u001b[38;5;241m=\u001b[39m \u001b[38;5;124mf\u001b[39m\u001b[38;5;124m\"\u001b[39m\u001b[38;5;124mDeployment predict error: \u001b[39m\u001b[38;5;132;01m{\u001b[39;00mresponse\u001b[38;5;241m.\u001b[39mtext\u001b[38;5;132;01m}\u001b[39;00m\u001b[38;5;124m\"\u001b[39m\n\u001b[1;32m    296\u001b[0m     logger\u001b[38;5;241m.\u001b[39merror(error_message)\n\u001b[0;32m--> 297\u001b[0m     \u001b[38;5;28;01mraise\u001b[39;00m e\n\u001b[1;32m    299\u001b[0m body \u001b[38;5;241m=\u001b[39m response\u001b[38;5;241m.\u001b[39mjson()\n\u001b[1;32m    300\u001b[0m serialized_output \u001b[38;5;241m=\u001b[39m body[\u001b[38;5;124m\"\u001b[39m\u001b[38;5;124mresult\u001b[39m\u001b[38;5;124m\"\u001b[39m]\n",
      "File \u001b[0;32m~/.pyenv/versions/3.11.0/lib/python3.11/site-packages/giza/agents/model.py:292\u001b[0m, in \u001b[0;36mGizaModel.predict\u001b[0;34m(self, input_file, input_feed, verifiable, fp_impl, custom_output_dtype, model_category, job_size, dry_run)\u001b[0m\n\u001b[1;32m    289\u001b[0m response \u001b[38;5;241m=\u001b[39m requests\u001b[38;5;241m.\u001b[39mpost(\u001b[38;5;28mself\u001b[39m\u001b[38;5;241m.\u001b[39muri, json\u001b[38;5;241m=\u001b[39mpayload)\n\u001b[1;32m    291\u001b[0m \u001b[38;5;28;01mtry\u001b[39;00m:\n\u001b[0;32m--> 292\u001b[0m     \u001b[43mresponse\u001b[49m\u001b[38;5;241;43m.\u001b[39;49m\u001b[43mraise_for_status\u001b[49m\u001b[43m(\u001b[49m\u001b[43m)\u001b[49m\n\u001b[1;32m    293\u001b[0m \u001b[38;5;28;01mexcept\u001b[39;00m requests\u001b[38;5;241m.\u001b[39mexceptions\u001b[38;5;241m.\u001b[39mHTTPError \u001b[38;5;28;01mas\u001b[39;00m e:\n\u001b[1;32m    294\u001b[0m     logger\u001b[38;5;241m.\u001b[39merror(\u001b[38;5;124mf\u001b[39m\u001b[38;5;124m\"\u001b[39m\u001b[38;5;124mAn error occurred in predict: \u001b[39m\u001b[38;5;132;01m{\u001b[39;00me\u001b[38;5;132;01m}\u001b[39;00m\u001b[38;5;124m\"\u001b[39m)\n",
      "File \u001b[0;32m~/.pyenv/versions/3.11.0/lib/python3.11/site-packages/requests/models.py:1024\u001b[0m, in \u001b[0;36mResponse.raise_for_status\u001b[0;34m(self)\u001b[0m\n\u001b[1;32m   1019\u001b[0m     http_error_msg \u001b[38;5;241m=\u001b[39m (\n\u001b[1;32m   1020\u001b[0m         \u001b[38;5;124mf\u001b[39m\u001b[38;5;124m\"\u001b[39m\u001b[38;5;132;01m{\u001b[39;00m\u001b[38;5;28mself\u001b[39m\u001b[38;5;241m.\u001b[39mstatus_code\u001b[38;5;132;01m}\u001b[39;00m\u001b[38;5;124m Server Error: \u001b[39m\u001b[38;5;132;01m{\u001b[39;00mreason\u001b[38;5;132;01m}\u001b[39;00m\u001b[38;5;124m for url: \u001b[39m\u001b[38;5;132;01m{\u001b[39;00m\u001b[38;5;28mself\u001b[39m\u001b[38;5;241m.\u001b[39murl\u001b[38;5;132;01m}\u001b[39;00m\u001b[38;5;124m\"\u001b[39m\n\u001b[1;32m   1021\u001b[0m     )\n\u001b[1;32m   1023\u001b[0m \u001b[38;5;28;01mif\u001b[39;00m http_error_msg:\n\u001b[0;32m-> 1024\u001b[0m     \u001b[38;5;28;01mraise\u001b[39;00m HTTPError(http_error_msg, response\u001b[38;5;241m=\u001b[39m\u001b[38;5;28mself\u001b[39m)\n",
      "\u001b[0;31mHTTPError\u001b[0m: 503 Server Error: Service Unavailable for url: https://endpoint-ashu-761-2-274f6734-7i3yxzspbq-ew.a.run.app/cairo_run"
     ]
    }
   ],
   "source": [
    "import xgboost as xgb\n",
    "from sklearn.datasets import load_diabetes\n",
    "from sklearn.model_selection import train_test_split\n",
    "\n",
    "from giza.agents.model import GizaModel\n",
    "\n",
    "\n",
    "MODEL_ID = 761  # Update with your model ID\n",
    "VERSION_ID = 2  # Update with your version ID\n",
    "\n",
    "def prediction(input, model_id, version_id):\n",
    "    model = GizaModel(id=model_id, version=version_id)\n",
    "\n",
    "    (result, proof_id) = model.predict(\n",
    "        input_feed={\"input\": input}, verifiable=True, model_category=\"XGB\"\n",
    "    )\n",
    "\n",
    "    return result, proof_id\n",
    "\n",
    "\n",
    "def execution():\n",
    "    # The input data type should match the model's expected input\n",
    "    # input = X_test.values[:1]\n",
    "    # print(input, input.shape)\n",
    "    # print(model.predict(input))\n",
    "    input = new_data.astype(np.float32).values\n",
    "\n",
    "    (result, proof_id) = prediction(input, MODEL_ID, VERSION_ID)\n",
    "\n",
    "    print(f\"Predicted value for input {input.flatten()[0]} is {result}\")\n",
    "\n",
    "    return result, proof_id\n",
    "\n",
    "\n",
    "if __name__ == \"__main__\":\n",
    "    _, proof_id = execution()\n",
    "    print(f\"Proof ID: {proof_id}\")"
   ]
  },
  {
   "cell_type": "code",
   "execution_count": 96,
   "metadata": {},
   "outputs": [
    {
     "name": "stdout",
     "output_type": "stream",
     "text": [
      "\u001b[1;33m[\u001b[0m\u001b[33mgiza\u001b[0m\u001b[1;33m]\u001b[0m\u001b[1m[\u001b[0m\u001b[1;36m2024\u001b[0m-\u001b[1;36m06\u001b[0m-\u001b[1;36m09\u001b[0m \u001b[1;92m12:20:35\u001b[0m.\u001b[1;36m364\u001b[0m\u001b[1m]\u001b[0m Getting logs for endpoint \u001b[1;36m329\u001b[0m ✅ \n",
      "\u001b[2m2024-06-09T06:19:50.134531Z\u001b[0m \u001b[32m INFO\u001b[0m \u001b[2morion_runner\u001b[0m\u001b[2m:\u001b[0m ✅ Sierra program downloaded successfully!\n",
      "\u001b[2m2024-06-09T06:19:50.134607Z\u001b[0m \u001b[32m INFO\u001b[0m \u001b[2morion_runner\u001b[0m\u001b[2m:\u001b[0m 🚀 Server running on 0.0.0.0:8080\n",
      "Default STARTUP TCP probe succeeded after 1 attempt for container \"orion-runner-1\" on port 8080.\n",
      "The request failed because either the HTTP response was malformed or connection to the instance had an error. Additional troubleshooting documentation can be found at: https://cloud.google.com/run/docs/troubleshooting#malformed-response-or-connection-error\n",
      "thread 'tokio-runtime-worker' panicked at crates/cairo_runner/src/utils.rs:16:78:\n",
      "called `Result::unwrap()` on an `Err` value: FromStrError\n",
      "note: run with `RUST_BACKTRACE=1` environment variable to display a backtrace\n",
      "\u001b[2m2024-06-09T06:20:23.304933Z\u001b[0m \u001b[32m INFO\u001b[0m \u001b[2morion_runner\u001b[0m\u001b[2m:\u001b[0m ✅ Sierra program downloaded successfully!\n",
      "\u001b[2m2024-06-09T06:20:23.304999Z\u001b[0m \u001b[32m INFO\u001b[0m \u001b[2morion_runner\u001b[0m\u001b[2m:\u001b[0m 🚀 Server running on 0.0.0.0:8080\n",
      "Default STARTUP TCP probe succeeded after 1 attempt for container \"orion-runner-1\" on port 8080.\n",
      "The request failed because either the HTTP response was malformed or connection to the instance had an error. Additional troubleshooting documentation can be found at: https://cloud.google.com/run/docs/troubleshooting#malformed-response-or-connection-error\n",
      "thread 'tokio-runtime-worker' panicked at crates/cairo_runner/src/utils.rs:16:78:\n",
      "called `Result::unwrap()` on an `Err` value: FromStrError\n",
      "note: run with `RUST_BACKTRACE=1` environment variable to display a backtrace\n",
      "\u001b[2m2024-06-09T06:21:25.369377Z\u001b[0m \u001b[32m INFO\u001b[0m \u001b[2morion_runner\u001b[0m\u001b[2m:\u001b[0m ✅ Sierra program downloaded successfully!\n",
      "\u001b[2m2024-06-09T06:21:25.369446Z\u001b[0m \u001b[32m INFO\u001b[0m \u001b[2morion_runner\u001b[0m\u001b[2m:\u001b[0m 🚀 Server running on 0.0.0.0:8080\n",
      "Default STARTUP TCP probe succeeded after 1 attempt for container \"orion-runner-1\" on port 8080.\n",
      "The request failed because either the HTTP response was malformed or connection to the instance had an error. Additional troubleshooting documentation can be found at: https://cloud.google.com/run/docs/troubleshooting#malformed-response-or-connection-error\n",
      "thread 'tokio-runtime-worker' panicked at crates/cairo_runner/src/utils.rs:16:78:\n",
      "called `Result::unwrap()` on an `Err` value: FromStrError\n",
      "note: run with `RUST_BACKTRACE=1` environment variable to display a backtrace\n",
      "\u001b[2m2024-06-09T06:22:55.332823Z\u001b[0m \u001b[32m INFO\u001b[0m \u001b[2morion_runner\u001b[0m\u001b[2m:\u001b[0m ✅ Sierra program downloaded successfully!\n",
      "\u001b[2m2024-06-09T06:22:55.332890Z\u001b[0m \u001b[32m INFO\u001b[0m \u001b[2morion_runner\u001b[0m\u001b[2m:\u001b[0m 🚀 Server running on 0.0.0.0:8080\n",
      "Default STARTUP TCP probe succeeded after 1 attempt for container \"orion-runner-1\" on port 8080.\n",
      "The request failed because either the HTTP response was malformed or connection to the instance had an error. Additional troubleshooting documentation can be found at: https://cloud.google.com/run/docs/troubleshooting#malformed-response-or-connection-error\n",
      "\u001b[2m2024-06-09T06:37:31.856226Z\u001b[0m \u001b[32m INFO\u001b[0m \u001b[2morion_runner\u001b[0m\u001b[2m:\u001b[0m ✅ Sierra program downloaded successfully!\n",
      "\u001b[2m2024-06-09T06:37:31.856316Z\u001b[0m \u001b[32m INFO\u001b[0m \u001b[2morion_runner\u001b[0m\u001b[2m:\u001b[0m 🚀 Server running on 0.0.0.0:8080\n",
      "Default STARTUP TCP probe succeeded after 1 attempt for container \"orion-runner-1\" on port 8080.\n",
      "thread 'tokio-runtime-worker' panicked at crates/cairo_runner/src/utils.rs:16:78:\n",
      "called `Result::unwrap()` on an `Err` value: FromStrError\n",
      "note: run with `RUST_BACKTRACE=1` environment variable to display a backtrace\n"
     ]
    }
   ],
   "source": [
    "!giza endpoints logs -e {329}"
   ]
  }
 ],
 "metadata": {
  "kernelspec": {
   "display_name": "Python 3",
   "language": "python",
   "name": "python3"
  },
  "language_info": {
   "codemirror_mode": {
    "name": "ipython",
    "version": 3
   },
   "file_extension": ".py",
   "mimetype": "text/x-python",
   "name": "python",
   "nbconvert_exporter": "python",
   "pygments_lexer": "ipython3",
   "version": "3.11.0"
  }
 },
 "nbformat": 4,
 "nbformat_minor": 2
}
