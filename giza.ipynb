{
 "cells": [
  {
   "cell_type": "code",
   "execution_count": 99,
   "metadata": {},
   "outputs": [
    {
     "name": "stdout",
     "output_type": "stream",
     "text": [
      "<class 'numpy.ndarray'> <class 'pandas.core.frame.DataFrame'> (1237, 1) (3883, 1)\n",
      "[0.9743774]\n",
      "Mean Squared Error: 0.00023868440270298732\n",
      "Stock to invest in: Chorus One, Predicted Change: 0.9825234413146973\n"
     ]
    },
    {
     "name": "stderr",
     "output_type": "stream",
     "text": [
      "/var/folders/pj/vyqltmgj79xghgpb38_96m040000gn/T/ipykernel_98715/1031454150.py:17: FutureWarning: Not prepending group keys to the result index of transform-like apply. In the future, the group keys will be included in the index, regardless of whether the applied function returns a like-indexed object.\n",
      "To preserve the previous behavior, use\n",
      "\n",
      "\t>>> .groupby(..., group_keys=False)\n",
      "\n",
      "To adopt the future behavior and silence this warning, use \n",
      "\n",
      "\t>>> .groupby(..., group_keys=True)\n",
      "  df = df.groupby('id').apply(create_lag_features, lag=1)\n",
      "/var/folders/pj/vyqltmgj79xghgpb38_96m040000gn/T/ipykernel_98715/1031454150.py:42: SettingWithCopyWarning: \n",
      "A value is trying to be set on a copy of a slice from a DataFrame.\n",
      "Try using .loc[row_indexer,col_indexer] = value instead\n",
      "\n",
      "See the caveats in the documentation: https://pandas.pydata.org/pandas-docs/stable/user_guide/indexing.html#returning-a-view-versus-a-copy\n",
      "  test_df['predicted_change'] = model.predict(X_test.values)\n"
     ]
    }
   ],
   "source": [
    "import pandas as pd\n",
    "import numpy as np\n",
    "from xgboost import XGBRegressor\n",
    "from sklearn.model_selection import train_test_split\n",
    "from sklearn.metrics import mean_squared_error\n",
    "\n",
    "# Load the CSV file\n",
    "df = pd.read_csv('validator_data.csv')\n",
    "\n",
    "# Function to create lag features\n",
    "def create_lag_features(df, lag=1):\n",
    "    for i in range(1, lag + 1):\n",
    "        df[f'lag_{i}'] = df['effectiveness'].shift(i)\n",
    "    return df\n",
    "\n",
    "# Create lag features for the past 5 days\n",
    "df = df.groupby('id').apply(create_lag_features, lag=1)\n",
    "df = df.dropna().reset_index(drop=True)\n",
    "# print(df.head())\n",
    "\n",
    "# Define features and target\n",
    "# features = [col for col in df.columns if 'lag_' in col]\n",
    "features = ['total_reward']\n",
    "target = 'effectiveness'\n",
    "\n",
    "# Split the data into training and testing sets\n",
    "train_df = df[df['partition_date'] < '2024-05-02']\n",
    "test_df = df[df['partition_date'] >= '2024-05-02']\n",
    "\n",
    "X_train = train_df[features]\n",
    "y_train = train_df[target]\n",
    "X_test = test_df[features]\n",
    "y_test = test_df[target]\n",
    "\n",
    "# Initialize and train the XGBoost model\n",
    "model = XGBRegressor()\n",
    "model.fit(X_train.values, y_train.values)\n",
    "\n",
    "print(type(X_test.values), type(df), X_test.values.shape, X_train.values.shape)\n",
    "\n",
    "# Make predictions\n",
    "test_df['predicted_change'] = model.predict(X_test.values)\n",
    "\n",
    "print(model.predict(X_test.values[:1]))\n",
    "\n",
    "# Evaluate the model\n",
    "mse = mean_squared_error(y_test, test_df['predicted_change'])\n",
    "print(f'Mean Squared Error: {mse}')\n",
    "\n",
    "# Select the stock with the highest predicted change for tomorrow\n",
    "investment_stock = test_df.loc[test_df['predicted_change'].idxmax()]\n",
    "print(f'Stock to invest in: {investment_stock[\"id\"]}, Predicted Change: {investment_stock[\"predicted_change\"]}')\n"
   ]
  },
  {
   "cell_type": "code",
   "execution_count": 147,
   "metadata": {},
   "outputs": [
    {
     "data": {
      "text/plain": [
       "array([['network', 290631, 2063, ..., '2024-05-02', 0.9806428592230352,\n",
       "        0.9743773937225342],\n",
       "       ['Launchnodes', 2562, 15, ..., '2024-05-02', 0.8364000474332984,\n",
       "        0.9464616775512695],\n",
       "       ['CryptoManufaktur', 8722, 53, ..., '2024-05-02',\n",
       "        0.9830070044910248, 0.9662720561027527],\n",
       "       ...,\n",
       "       ['Attestant (BVI) Limited', 8892, 48, ..., '2024-06-02',\n",
       "        0.9869107547569268, 0.9673405289649963],\n",
       "       ['Develp GmbH', 5500, 44, ..., '2024-06-02', 0.9851771155105016,\n",
       "        0.9807904362678528],\n",
       "       ['Gateway.fm AS', 4500, 28, ..., '2024-06-02', 0.9754852924909982,\n",
       "        0.965843915939331]], dtype=object)"
      ]
     },
     "execution_count": 147,
     "metadata": {},
     "output_type": "execute_result"
    }
   ],
   "source": [
    "test_df.values"
   ]
  },
  {
   "cell_type": "code",
   "execution_count": 100,
   "metadata": {},
   "outputs": [
    {
     "name": "stdout",
     "output_type": "stream",
     "text": [
      "\u001b[1;33m[\u001b[0m\u001b[33mgiza\u001b[0m\u001b[1;33m]\u001b[0m\u001b[1m[\u001b[0m\u001b[1;36m2024\u001b[0m-\u001b[1;36m06\u001b[0m-\u001b[1;36m09\u001b[0m \u001b[1;92m13:05:13\u001b[0m.\u001b[1;36m700\u001b[0m\u001b[1m]\u001b[0m Creating API Key ✅ \n",
      "\u001b[1;33m[\u001b[0m\u001b[33mgiza\u001b[0m\u001b[1;33m]\u001b[0m\u001b[1m[\u001b[0m\u001b[1;36m2024\u001b[0m-\u001b[1;36m06\u001b[0m-\u001b[1;36m09\u001b[0m \u001b[1;92m13:05:14\u001b[0m.\u001b[1;36m872\u001b[0m\u001b[1m]\u001b[0m Successfully created API Key. It will be used for future requests ✅\n"
     ]
    }
   ],
   "source": [
    "!giza users create-api-key"
   ]
  },
  {
   "cell_type": "code",
   "execution_count": 101,
   "metadata": {},
   "outputs": [
    {
     "name": "stdout",
     "output_type": "stream",
     "text": [
      "1.4.2\n"
     ]
    }
   ],
   "source": [
    "import sklearn\n",
    "print(sklearn.__version__)"
   ]
  },
  {
   "cell_type": "code",
   "execution_count": 102,
   "metadata": {},
   "outputs": [],
   "source": [
    "from giza.zkcook import serialize_model\n",
    "serialize_model(model, \"validator_data.json\")"
   ]
  },
  {
   "cell_type": "code",
   "execution_count": 103,
   "metadata": {},
   "outputs": [
    {
     "name": "stdout",
     "output_type": "stream",
     "text": [
      "\u001b[1;33m[\u001b[0m\u001b[33mgiza\u001b[0m\u001b[1;33m]\u001b[0m\u001b[1m[\u001b[0m\u001b[1;36m2024\u001b[0m-\u001b[1;36m06\u001b[0m-\u001b[1;36m09\u001b[0m \u001b[1;92m13:05:22\u001b[0m.\u001b[1;36m239\u001b[0m\u001b[1m]\u001b[0m No model id provided, checking if model exists ✅\n",
      "\u001b[1;33m[\u001b[0m\u001b[33mgiza\u001b[0m\u001b[1;33m]\u001b[0m\u001b[1m[\u001b[0m\u001b[1;36m2024\u001b[0m-\u001b[1;36m06\u001b[0m-\u001b[1;36m09\u001b[0m \u001b[1;92m13:05:22\u001b[0m.\u001b[1;36m241\u001b[0m\u001b[1m]\u001b[0m Model name is: validator_data\n",
      "\u001b[2K\u001b[1;33m[\u001b[0m\u001b[33mgiza\u001b[0m\u001b[1;33m]\u001b[0m\u001b[1m[\u001b[0m\u001b[1;36m2024\u001b[0m-\u001b[1;36m06\u001b[0m-\u001b[1;36m09\u001b[0m \u001b[1;92m13:05:23\u001b[0m.\u001b[1;36m097\u001b[0m\u001b[1m]\u001b[0m Model already exists, using existing model ✅ \n",
      "\u001b[2K\u001b[1;33m[\u001b[0m\u001b[33mgiza\u001b[0m\u001b[1;33m]\u001b[0m\u001b[1m[\u001b[0m\u001b[1;36m2024\u001b[0m-\u001b[1;36m06\u001b[0m-\u001b[1;36m09\u001b[0m \u001b[1;92m13:05:23\u001b[0m.\u001b[1;36m097\u001b[0m\u001b[1m]\u001b[0m Model found with id -> \u001b[1;36m761\u001b[0m! ✅\n",
      "\u001b[2K\u001b[1;33m[\u001b[0m\u001b[33mgiza\u001b[0m\u001b[1;33m]\u001b[0m\u001b[1m[\u001b[0m\u001b[1;36m2024\u001b[0m-\u001b[1;36m06\u001b[0m-\u001b[1;36m09\u001b[0m \u001b[1;92m13:05:24\u001b[0m.\u001b[1;36m020\u001b[0m\u001b[1m]\u001b[0m Version Created with id -> \u001b[1;36m3\u001b[0m! ✅\n",
      "\u001b[2K\u001b[1;33m[\u001b[0m\u001b[33mgiza\u001b[0m\u001b[1;33m]\u001b[0m\u001b[1m[\u001b[0m\u001b[1;36m2024\u001b[0m-\u001b[1;36m06\u001b[0m-\u001b[1;36m09\u001b[0m \u001b[1;92m13:05:24\u001b[0m.\u001b[1;36m021\u001b[0m\u001b[1m]\u001b[0m Sending model for transpilation ✅ \n",
      "\u001b[2K\u001b[1;33m[\u001b[0m\u001b[33mgiza\u001b[0m\u001b[1;33m]\u001b[0m\u001b[1m[\u001b[0m\u001b[1;36m2024\u001b[0m-\u001b[1;36m06\u001b[0m-\u001b[1;36m09\u001b[0m \u001b[1;92m13:05:50\u001b[0m.\u001b[1;36m849\u001b[0m\u001b[1m]\u001b[0m Transpilation is fully compatible. Version compiled and Sierra is saved at Giza ✅\n",
      "\u001b[2K\u001b[32m⠧\u001b[0m Transpiling Model...\n",
      "\u001b[1A\u001b[2K\u001b[1;33m[\u001b[0m\u001b[33mgiza\u001b[0m\u001b[1;33m]\u001b[0m\u001b[1m[\u001b[0m\u001b[1;36m2024\u001b[0m-\u001b[1;36m06\u001b[0m-\u001b[1;36m09\u001b[0m \u001b[1;92m13:05:53\u001b[0m.\u001b[1;36m409\u001b[0m\u001b[1m]\u001b[0m Downloading model ✅\n",
      "\u001b[1;33m[\u001b[0m\u001b[33mgiza\u001b[0m\u001b[1;33m]\u001b[0m\u001b[1m[\u001b[0m\u001b[1;36m2024\u001b[0m-\u001b[1;36m06\u001b[0m-\u001b[1;36m09\u001b[0m \u001b[1;92m13:05:53\u001b[0m.\u001b[1;36m413\u001b[0m\u001b[1m]\u001b[0m model saved at: validator_data\n"
     ]
    }
   ],
   "source": [
    "! giza transpile validator_data.json --output-path validator_data"
   ]
  },
  {
   "cell_type": "code",
   "execution_count": 104,
   "metadata": {},
   "outputs": [
    {
     "name": "stdout",
     "output_type": "stream",
     "text": [
      "\u001b[2K▰▱▱▱▱▱▱ Creating endpoint!t!\n",
      "\u001b[?25h\u001b[1;33m[\u001b[0m\u001b[33mgiza\u001b[0m\u001b[1;33m]\u001b[0m\u001b[1m[\u001b[0m\u001b[1;36m2024\u001b[0m-\u001b[1;36m06\u001b[0m-\u001b[1;36m09\u001b[0m \u001b[1;92m13:06:13\u001b[0m.\u001b[1;36m583\u001b[0m\u001b[1m]\u001b[0m Endpoint is successful ✅\n",
      "\u001b[1;33m[\u001b[0m\u001b[33mgiza\u001b[0m\u001b[1;33m]\u001b[0m\u001b[1m[\u001b[0m\u001b[1;36m2024\u001b[0m-\u001b[1;36m06\u001b[0m-\u001b[1;36m09\u001b[0m \u001b[1;92m13:06:13\u001b[0m.\u001b[1;36m586\u001b[0m\u001b[1m]\u001b[0m Endpoint created with id -> \u001b[1;36m331\u001b[0m ✅\n",
      "\u001b[1;33m[\u001b[0m\u001b[33mgiza\u001b[0m\u001b[1;33m]\u001b[0m\u001b[1m[\u001b[0m\u001b[1;36m2024\u001b[0m-\u001b[1;36m06\u001b[0m-\u001b[1;36m09\u001b[0m \u001b[1;92m13:06:13\u001b[0m.\u001b[1;36m586\u001b[0m\u001b[1m]\u001b[0m Endpoint created with endpoint URL: \u001b[4;94mhttps://endpoint-ashu-761-3-aa24c0d5-7i3yxzspbq-ew.a.run.app\u001b[0m 🎉\n"
     ]
    }
   ],
   "source": [
    "! giza endpoints deploy --size M --model-id 761 --version-id 3"
   ]
  },
  {
   "cell_type": "code",
   "execution_count": 143,
   "metadata": {},
   "outputs": [
    {
     "name": "stdout",
     "output_type": "stream",
     "text": [
      "{\"result\":\"94390\",\"request_id\":\"190dcaea388d4ca59a497a600ad95c74\"}\n"
     ]
    }
   ],
   "source": [
    "import requests\n",
    "import json\n",
    "\n",
    "url = \"https://endpoint-ashu-761-3-aa24c0d5-7i3yxzspbq-ew.a.run.app/cairo_run\"\n",
    "\n",
    "payload = json.dumps({\n",
    "  \"args\": \"[538000 7459999 7459999 7459999 7459999 7459999]\"\n",
    "})\n",
    "headers = {\n",
    "  'Content-Type': 'application/json'\n",
    "}\n",
    "\n",
    "response = requests.request(\"POST\", url, headers=headers, data=payload)\n",
    "\n",
    "print(response.text)\n"
   ]
  },
  {
   "cell_type": "code",
   "execution_count": 106,
   "metadata": {},
   "outputs": [
    {
     "name": "stdout",
     "output_type": "stream",
     "text": [
      "(1,)\n"
     ]
    }
   ],
   "source": [
    "print(X_test.values[0].shape)"
   ]
  },
  {
   "cell_type": "code",
   "execution_count": 105,
   "metadata": {},
   "outputs": [
    {
     "name": "stdout",
     "output_type": "stream",
     "text": [
      "[87545018]\n"
     ]
    }
   ],
   "source": [
    "v = X_test.values[:1]\n",
    "args = v[0]*100000\n",
    "int_args = [int(arg) for arg in args]\n",
    "print(int_args)"
   ]
  },
  {
   "cell_type": "code",
   "execution_count": 107,
   "metadata": {},
   "outputs": [
    {
     "data": {
      "text/plain": [
       "total_reward    36.010773\n",
       "Name: 0, dtype: float64"
      ]
     },
     "execution_count": 107,
     "metadata": {},
     "output_type": "execute_result"
    }
   ],
   "source": [
    "X_train.iloc[0]"
   ]
  },
  {
   "cell_type": "code",
   "execution_count": 134,
   "metadata": {},
   "outputs": [
    {
     "data": {
      "text/html": [
       "<div>\n",
       "<style scoped>\n",
       "    .dataframe tbody tr th:only-of-type {\n",
       "        vertical-align: middle;\n",
       "    }\n",
       "\n",
       "    .dataframe tbody tr th {\n",
       "        vertical-align: top;\n",
       "    }\n",
       "\n",
       "    .dataframe thead th {\n",
       "        text-align: right;\n",
       "    }\n",
       "</style>\n",
       "<table border=\"1\" class=\"dataframe\">\n",
       "  <thead>\n",
       "    <tr style=\"text-align: right;\">\n",
       "      <th></th>\n",
       "      <th>total_reward</th>\n",
       "    </tr>\n",
       "  </thead>\n",
       "  <tbody>\n",
       "    <tr>\n",
       "      <th>0</th>\n",
       "      <td>4564</td>\n",
       "    </tr>\n",
       "    <tr>\n",
       "      <th>1</th>\n",
       "      <td>5345</td>\n",
       "    </tr>\n",
       "  </tbody>\n",
       "</table>\n",
       "</div>"
      ],
      "text/plain": [
       "   total_reward\n",
       "0          4564\n",
       "1          5345"
      ]
     },
     "execution_count": 134,
     "metadata": {},
     "output_type": "execute_result"
    }
   ],
   "source": [
    "new_data = pd.DataFrame({\n",
    "    'total_reward': [4564, 5345]\n",
    "})\n",
    "new_data\n",
    "# model.predict(new_data.values)"
   ]
  },
  {
   "cell_type": "code",
   "execution_count": 145,
   "metadata": {},
   "outputs": [
    {
     "name": "stdout",
     "output_type": "stream",
     "text": [
      "[36.0107 43.5353] (2, 1)\n"
     ]
    },
    {
     "name": "stderr",
     "output_type": "stream",
     "text": [
      "An error occurred in predict: 503 Server Error: Service Unavailable for url: https://endpoint-ashu-761-3-aa24c0d5-7i3yxzspbq-ew.a.run.app/cairo_run\n",
      "Deployment predict error: Service Unavailable\n",
      "An error occurred in predict: 503 Server Error: Service Unavailable for url: https://endpoint-ashu-761-3-aa24c0d5-7i3yxzspbq-ew.a.run.app/cairo_run\n"
     ]
    },
    {
     "ename": "HTTPError",
     "evalue": "503 Server Error: Service Unavailable for url: https://endpoint-ashu-761-3-aa24c0d5-7i3yxzspbq-ew.a.run.app/cairo_run",
     "output_type": "error",
     "traceback": [
      "\u001b[0;31m---------------------------------------------------------------------------\u001b[0m",
      "\u001b[0;31mHTTPError\u001b[0m                                 Traceback (most recent call last)",
      "Cell \u001b[0;32mIn[145], line 35\u001b[0m\n\u001b[1;32m     31\u001b[0m     \u001b[38;5;28;01mreturn\u001b[39;00m result, proof_id\n\u001b[1;32m     34\u001b[0m \u001b[38;5;28;01mif\u001b[39;00m \u001b[38;5;18m__name__\u001b[39m \u001b[38;5;241m==\u001b[39m \u001b[38;5;124m\"\u001b[39m\u001b[38;5;124m__main__\u001b[39m\u001b[38;5;124m\"\u001b[39m:\n\u001b[0;32m---> 35\u001b[0m     _, proof_id \u001b[38;5;241m=\u001b[39m \u001b[43mexecution\u001b[49m\u001b[43m(\u001b[49m\u001b[43m)\u001b[49m\n\u001b[1;32m     36\u001b[0m     \u001b[38;5;28mprint\u001b[39m(\u001b[38;5;124mf\u001b[39m\u001b[38;5;124m\"\u001b[39m\u001b[38;5;124mProof ID: \u001b[39m\u001b[38;5;132;01m{\u001b[39;00mproof_id\u001b[38;5;132;01m}\u001b[39;00m\u001b[38;5;124m\"\u001b[39m)\n",
      "Cell \u001b[0;32mIn[145], line 27\u001b[0m, in \u001b[0;36mexecution\u001b[0;34m()\u001b[0m\n\u001b[1;32m     24\u001b[0m \u001b[38;5;28minput\u001b[39m \u001b[38;5;241m=\u001b[39m np\u001b[38;5;241m.\u001b[39marray([[\u001b[38;5;241m36.0107\u001b[39m], [\u001b[38;5;241m43.5353\u001b[39m]])\n\u001b[1;32m     25\u001b[0m \u001b[38;5;28mprint\u001b[39m(\u001b[38;5;28minput\u001b[39m\u001b[38;5;241m.\u001b[39mflatten(), \u001b[38;5;28minput\u001b[39m\u001b[38;5;241m.\u001b[39mshape)\n\u001b[0;32m---> 27\u001b[0m (result, proof_id) \u001b[38;5;241m=\u001b[39m \u001b[43mprediction\u001b[49m\u001b[43m(\u001b[49m\u001b[38;5;28;43minput\u001b[39;49m\u001b[43m,\u001b[49m\u001b[43m \u001b[49m\u001b[43mMODEL_ID\u001b[49m\u001b[43m,\u001b[49m\u001b[43m \u001b[49m\u001b[43mVERSION_ID\u001b[49m\u001b[43m)\u001b[49m\n\u001b[1;32m     29\u001b[0m \u001b[38;5;28mprint\u001b[39m(\u001b[38;5;124mf\u001b[39m\u001b[38;5;124m\"\u001b[39m\u001b[38;5;124mPredicted value for input \u001b[39m\u001b[38;5;132;01m{\u001b[39;00m\u001b[38;5;28minput\u001b[39m\u001b[38;5;241m.\u001b[39mflatten()[\u001b[38;5;241m0\u001b[39m]\u001b[38;5;132;01m}\u001b[39;00m\u001b[38;5;124m is \u001b[39m\u001b[38;5;132;01m{\u001b[39;00mresult\u001b[38;5;132;01m}\u001b[39;00m\u001b[38;5;124m\"\u001b[39m)\n\u001b[1;32m     31\u001b[0m \u001b[38;5;28;01mreturn\u001b[39;00m result, proof_id\n",
      "Cell \u001b[0;32mIn[145], line 12\u001b[0m, in \u001b[0;36mprediction\u001b[0;34m(input, model_id, version_id)\u001b[0m\n\u001b[1;32m      9\u001b[0m \u001b[38;5;28;01mdef\u001b[39;00m \u001b[38;5;21mprediction\u001b[39m(\u001b[38;5;28minput\u001b[39m, model_id, version_id):\n\u001b[1;32m     10\u001b[0m     model \u001b[38;5;241m=\u001b[39m GizaModel(\u001b[38;5;28mid\u001b[39m\u001b[38;5;241m=\u001b[39mmodel_id, version\u001b[38;5;241m=\u001b[39mversion_id)\n\u001b[0;32m---> 12\u001b[0m     (result, proof_id) \u001b[38;5;241m=\u001b[39m \u001b[43mmodel\u001b[49m\u001b[38;5;241;43m.\u001b[39;49m\u001b[43mpredict\u001b[49m\u001b[43m(\u001b[49m\n\u001b[1;32m     13\u001b[0m \u001b[43m        \u001b[49m\u001b[43minput_feed\u001b[49m\u001b[38;5;241;43m=\u001b[39;49m\u001b[43m{\u001b[49m\u001b[38;5;124;43m\"\u001b[39;49m\u001b[38;5;124;43minput\u001b[39;49m\u001b[38;5;124;43m\"\u001b[39;49m\u001b[43m:\u001b[49m\u001b[43m \u001b[49m\u001b[38;5;28;43minput\u001b[39;49m\u001b[43m}\u001b[49m\u001b[43m,\u001b[49m\u001b[43m \u001b[49m\u001b[43mverifiable\u001b[49m\u001b[38;5;241;43m=\u001b[39;49m\u001b[38;5;28;43;01mTrue\u001b[39;49;00m\u001b[43m,\u001b[49m\u001b[43m \u001b[49m\u001b[43mmodel_category\u001b[49m\u001b[38;5;241;43m=\u001b[39;49m\u001b[38;5;124;43m\"\u001b[39;49m\u001b[38;5;124;43mXGB\u001b[39;49m\u001b[38;5;124;43m\"\u001b[39;49m\n\u001b[1;32m     14\u001b[0m \u001b[43m    \u001b[49m\u001b[43m)\u001b[49m\n\u001b[1;32m     16\u001b[0m     \u001b[38;5;28;01mreturn\u001b[39;00m result, proof_id\n",
      "File \u001b[0;32m~/.pyenv/versions/3.11.0/lib/python3.11/site-packages/giza/agents/model.py:333\u001b[0m, in \u001b[0;36mGizaModel.predict\u001b[0;34m(self, input_file, input_feed, verifiable, fp_impl, custom_output_dtype, model_category, job_size, dry_run)\u001b[0m\n\u001b[1;32m    331\u001b[0m \u001b[38;5;28;01mexcept\u001b[39;00m \u001b[38;5;167;01mException\u001b[39;00m \u001b[38;5;28;01mas\u001b[39;00m e:\n\u001b[1;32m    332\u001b[0m     logger\u001b[38;5;241m.\u001b[39merror(\u001b[38;5;124mf\u001b[39m\u001b[38;5;124m\"\u001b[39m\u001b[38;5;124mAn error occurred in predict: \u001b[39m\u001b[38;5;132;01m{\u001b[39;00me\u001b[38;5;132;01m}\u001b[39;00m\u001b[38;5;124m\"\u001b[39m)\n\u001b[0;32m--> 333\u001b[0m     \u001b[38;5;28;01mraise\u001b[39;00m e\n",
      "File \u001b[0;32m~/.pyenv/versions/3.11.0/lib/python3.11/site-packages/giza/agents/model.py:297\u001b[0m, in \u001b[0;36mGizaModel.predict\u001b[0;34m(self, input_file, input_feed, verifiable, fp_impl, custom_output_dtype, model_category, job_size, dry_run)\u001b[0m\n\u001b[1;32m    295\u001b[0m     error_message \u001b[38;5;241m=\u001b[39m \u001b[38;5;124mf\u001b[39m\u001b[38;5;124m\"\u001b[39m\u001b[38;5;124mDeployment predict error: \u001b[39m\u001b[38;5;132;01m{\u001b[39;00mresponse\u001b[38;5;241m.\u001b[39mtext\u001b[38;5;132;01m}\u001b[39;00m\u001b[38;5;124m\"\u001b[39m\n\u001b[1;32m    296\u001b[0m     logger\u001b[38;5;241m.\u001b[39merror(error_message)\n\u001b[0;32m--> 297\u001b[0m     \u001b[38;5;28;01mraise\u001b[39;00m e\n\u001b[1;32m    299\u001b[0m body \u001b[38;5;241m=\u001b[39m response\u001b[38;5;241m.\u001b[39mjson()\n\u001b[1;32m    300\u001b[0m serialized_output \u001b[38;5;241m=\u001b[39m body[\u001b[38;5;124m\"\u001b[39m\u001b[38;5;124mresult\u001b[39m\u001b[38;5;124m\"\u001b[39m]\n",
      "File \u001b[0;32m~/.pyenv/versions/3.11.0/lib/python3.11/site-packages/giza/agents/model.py:292\u001b[0m, in \u001b[0;36mGizaModel.predict\u001b[0;34m(self, input_file, input_feed, verifiable, fp_impl, custom_output_dtype, model_category, job_size, dry_run)\u001b[0m\n\u001b[1;32m    289\u001b[0m response \u001b[38;5;241m=\u001b[39m requests\u001b[38;5;241m.\u001b[39mpost(\u001b[38;5;28mself\u001b[39m\u001b[38;5;241m.\u001b[39muri, json\u001b[38;5;241m=\u001b[39mpayload)\n\u001b[1;32m    291\u001b[0m \u001b[38;5;28;01mtry\u001b[39;00m:\n\u001b[0;32m--> 292\u001b[0m     \u001b[43mresponse\u001b[49m\u001b[38;5;241;43m.\u001b[39;49m\u001b[43mraise_for_status\u001b[49m\u001b[43m(\u001b[49m\u001b[43m)\u001b[49m\n\u001b[1;32m    293\u001b[0m \u001b[38;5;28;01mexcept\u001b[39;00m requests\u001b[38;5;241m.\u001b[39mexceptions\u001b[38;5;241m.\u001b[39mHTTPError \u001b[38;5;28;01mas\u001b[39;00m e:\n\u001b[1;32m    294\u001b[0m     logger\u001b[38;5;241m.\u001b[39merror(\u001b[38;5;124mf\u001b[39m\u001b[38;5;124m\"\u001b[39m\u001b[38;5;124mAn error occurred in predict: \u001b[39m\u001b[38;5;132;01m{\u001b[39;00me\u001b[38;5;132;01m}\u001b[39;00m\u001b[38;5;124m\"\u001b[39m)\n",
      "File \u001b[0;32m~/.pyenv/versions/3.11.0/lib/python3.11/site-packages/requests/models.py:1024\u001b[0m, in \u001b[0;36mResponse.raise_for_status\u001b[0;34m(self)\u001b[0m\n\u001b[1;32m   1019\u001b[0m     http_error_msg \u001b[38;5;241m=\u001b[39m (\n\u001b[1;32m   1020\u001b[0m         \u001b[38;5;124mf\u001b[39m\u001b[38;5;124m\"\u001b[39m\u001b[38;5;132;01m{\u001b[39;00m\u001b[38;5;28mself\u001b[39m\u001b[38;5;241m.\u001b[39mstatus_code\u001b[38;5;132;01m}\u001b[39;00m\u001b[38;5;124m Server Error: \u001b[39m\u001b[38;5;132;01m{\u001b[39;00mreason\u001b[38;5;132;01m}\u001b[39;00m\u001b[38;5;124m for url: \u001b[39m\u001b[38;5;132;01m{\u001b[39;00m\u001b[38;5;28mself\u001b[39m\u001b[38;5;241m.\u001b[39murl\u001b[38;5;132;01m}\u001b[39;00m\u001b[38;5;124m\"\u001b[39m\n\u001b[1;32m   1021\u001b[0m     )\n\u001b[1;32m   1023\u001b[0m \u001b[38;5;28;01mif\u001b[39;00m http_error_msg:\n\u001b[0;32m-> 1024\u001b[0m     \u001b[38;5;28;01mraise\u001b[39;00m HTTPError(http_error_msg, response\u001b[38;5;241m=\u001b[39m\u001b[38;5;28mself\u001b[39m)\n",
      "\u001b[0;31mHTTPError\u001b[0m: 503 Server Error: Service Unavailable for url: https://endpoint-ashu-761-3-aa24c0d5-7i3yxzspbq-ew.a.run.app/cairo_run"
     ]
    }
   ],
   "source": [
    "import xgboost as xgb\n",
    "from sklearn.datasets import load_diabetes\n",
    "from sklearn.model_selection import train_test_split\n",
    "from giza.agents.model import GizaModel\n",
    "\n",
    "MODEL_ID = 761  # Update with your model ID\n",
    "VERSION_ID = 3  # Update with your version ID\n",
    "\n",
    "def prediction(input, model_id, version_id):\n",
    "    model = GizaModel(id=model_id, version=version_id)\n",
    "\n",
    "    (result, proof_id) = model.predict(\n",
    "        input_feed={\"input\": input}, verifiable=True, model_category=\"XGB\"\n",
    "    )\n",
    "\n",
    "    return result, proof_id\n",
    "\n",
    "\n",
    "def execution():\n",
    "    # The input data type should match the model's expected input\n",
    "    # input = X_test.values[:1]\n",
    "    # print(model.predict(input))\n",
    "    # input = new_data.astype(np.float32).values\n",
    "    input = np.array([[36.0107], [43.5353]])\n",
    "    print(input.flatten(), input.shape)\n",
    "\n",
    "    (result, proof_id) = prediction(input, MODEL_ID, VERSION_ID)\n",
    "\n",
    "    print(f\"Predicted value for input {input.flatten()[0]} is {result}\")\n",
    "\n",
    "    return result, proof_id\n",
    "\n",
    "\n",
    "if __name__ == \"__main__\":\n",
    "    _, proof_id = execution()\n",
    "    print(f\"Proof ID: {proof_id}\")"
   ]
  },
  {
   "cell_type": "code",
   "execution_count": 110,
   "metadata": {},
   "outputs": [
    {
     "name": "stdout",
     "output_type": "stream",
     "text": [
      "\u001b[1;33m[\u001b[0m\u001b[33mgiza\u001b[0m\u001b[1;33m]\u001b[0m\u001b[1m[\u001b[0m\u001b[1;36m2024\u001b[0m-\u001b[1;36m06\u001b[0m-\u001b[1;36m09\u001b[0m \u001b[1;92m13:07:13\u001b[0m.\u001b[1;36m222\u001b[0m\u001b[1m]\u001b[0m Getting logs for endpoint \u001b[1;36m329\u001b[0m ✅ \n",
      "\u001b[2m2024-06-09T06:19:50.134531Z\u001b[0m \u001b[32m INFO\u001b[0m \u001b[2morion_runner\u001b[0m\u001b[2m:\u001b[0m ✅ Sierra program downloaded successfully!\n",
      "\u001b[2m2024-06-09T06:19:50.134607Z\u001b[0m \u001b[32m INFO\u001b[0m \u001b[2morion_runner\u001b[0m\u001b[2m:\u001b[0m 🚀 Server running on 0.0.0.0:8080\n",
      "Default STARTUP TCP probe succeeded after 1 attempt for container \"orion-runner-1\" on port 8080.\n",
      "The request failed because either the HTTP response was malformed or connection to the instance had an error. Additional troubleshooting documentation can be found at: https://cloud.google.com/run/docs/troubleshooting#malformed-response-or-connection-error\n",
      "thread 'tokio-runtime-worker' panicked at crates/cairo_runner/src/utils.rs:16:78:\n",
      "called `Result::unwrap()` on an `Err` value: FromStrError\n",
      "note: run with `RUST_BACKTRACE=1` environment variable to display a backtrace\n",
      "\u001b[2m2024-06-09T06:20:23.304933Z\u001b[0m \u001b[32m INFO\u001b[0m \u001b[2morion_runner\u001b[0m\u001b[2m:\u001b[0m ✅ Sierra program downloaded successfully!\n",
      "\u001b[2m2024-06-09T06:20:23.304999Z\u001b[0m \u001b[32m INFO\u001b[0m \u001b[2morion_runner\u001b[0m\u001b[2m:\u001b[0m 🚀 Server running on 0.0.0.0:8080\n",
      "Default STARTUP TCP probe succeeded after 1 attempt for container \"orion-runner-1\" on port 8080.\n",
      "The request failed because either the HTTP response was malformed or connection to the instance had an error. Additional troubleshooting documentation can be found at: https://cloud.google.com/run/docs/troubleshooting#malformed-response-or-connection-error\n",
      "thread 'tokio-runtime-worker' panicked at crates/cairo_runner/src/utils.rs:16:78:\n",
      "called `Result::unwrap()` on an `Err` value: FromStrError\n",
      "note: run with `RUST_BACKTRACE=1` environment variable to display a backtrace\n",
      "\u001b[2m2024-06-09T06:21:25.369377Z\u001b[0m \u001b[32m INFO\u001b[0m \u001b[2morion_runner\u001b[0m\u001b[2m:\u001b[0m ✅ Sierra program downloaded successfully!\n",
      "\u001b[2m2024-06-09T06:21:25.369446Z\u001b[0m \u001b[32m INFO\u001b[0m \u001b[2morion_runner\u001b[0m\u001b[2m:\u001b[0m 🚀 Server running on 0.0.0.0:8080\n",
      "Default STARTUP TCP probe succeeded after 1 attempt for container \"orion-runner-1\" on port 8080.\n",
      "The request failed because either the HTTP response was malformed or connection to the instance had an error. Additional troubleshooting documentation can be found at: https://cloud.google.com/run/docs/troubleshooting#malformed-response-or-connection-error\n",
      "thread 'tokio-runtime-worker' panicked at crates/cairo_runner/src/utils.rs:16:78:\n",
      "called `Result::unwrap()` on an `Err` value: FromStrError\n",
      "note: run with `RUST_BACKTRACE=1` environment variable to display a backtrace\n",
      "\u001b[2m2024-06-09T06:22:55.332823Z\u001b[0m \u001b[32m INFO\u001b[0m \u001b[2morion_runner\u001b[0m\u001b[2m:\u001b[0m ✅ Sierra program downloaded successfully!\n",
      "\u001b[2m2024-06-09T06:22:55.332890Z\u001b[0m \u001b[32m INFO\u001b[0m \u001b[2morion_runner\u001b[0m\u001b[2m:\u001b[0m 🚀 Server running on 0.0.0.0:8080\n",
      "Default STARTUP TCP probe succeeded after 1 attempt for container \"orion-runner-1\" on port 8080.\n",
      "The request failed because either the HTTP response was malformed or connection to the instance had an error. Additional troubleshooting documentation can be found at: https://cloud.google.com/run/docs/troubleshooting#malformed-response-or-connection-error\n",
      "\u001b[2m2024-06-09T06:37:31.856226Z\u001b[0m \u001b[32m INFO\u001b[0m \u001b[2morion_runner\u001b[0m\u001b[2m:\u001b[0m ✅ Sierra program downloaded successfully!\n",
      "\u001b[2m2024-06-09T06:37:31.856316Z\u001b[0m \u001b[32m INFO\u001b[0m \u001b[2morion_runner\u001b[0m\u001b[2m:\u001b[0m 🚀 Server running on 0.0.0.0:8080\n",
      "Default STARTUP TCP probe succeeded after 1 attempt for container \"orion-runner-1\" on port 8080.\n",
      "thread 'tokio-runtime-worker' panicked at crates/cairo_runner/src/utils.rs:16:78:\n",
      "called `Result::unwrap()` on an `Err` value: FromStrError\n",
      "note: run with `RUST_BACKTRACE=1` environment variable to display a backtrace\n",
      "The request failed because either the HTTP response was malformed or connection to the instance had an error. Additional troubleshooting documentation can be found at: https://cloud.google.com/run/docs/troubleshooting#malformed-response-or-connection-error\n",
      "\u001b[2m2024-06-09T06:51:27.082371Z\u001b[0m \u001b[32m INFO\u001b[0m \u001b[2morion_runner\u001b[0m\u001b[2m:\u001b[0m ✅ Sierra program downloaded successfully!\n",
      "\u001b[2m2024-06-09T06:51:27.082454Z\u001b[0m \u001b[32m INFO\u001b[0m \u001b[2morion_runner\u001b[0m\u001b[2m:\u001b[0m 🚀 Server running on 0.0.0.0:8080\n",
      "Default STARTUP TCP probe succeeded after 1 attempt for container \"orion-runner-1\" on port 8080.\n",
      "thread 'tokio-runtime-worker' panicked at crates/cairo_runner/src/utils.rs:16:78:\n",
      "called `Result::unwrap()` on an `Err` value: FromStrError\n",
      "note: run with `RUST_BACKTRACE=1` environment variable to display a backtrace\n"
     ]
    }
   ],
   "source": [
    "!giza endpoints logs -e {329}"
   ]
  }
 ],
 "metadata": {
  "kernelspec": {
   "display_name": "Python 3",
   "language": "python",
   "name": "python3"
  },
  "language_info": {
   "codemirror_mode": {
    "name": "ipython",
    "version": 3
   },
   "file_extension": ".py",
   "mimetype": "text/x-python",
   "name": "python",
   "nbconvert_exporter": "python",
   "pygments_lexer": "ipython3",
   "version": "3.11.0"
  }
 },
 "nbformat": 4,
 "nbformat_minor": 2
}
